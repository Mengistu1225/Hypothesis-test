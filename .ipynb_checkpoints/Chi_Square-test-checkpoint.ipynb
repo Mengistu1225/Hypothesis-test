{
 "cells": [
  {
   "cell_type": "raw",
   "id": "48b9d3a0-5313-4b68-b98c-b471c490ebca",
   "metadata": {},
   "source": [
    "The Chi-Square Test is a statistical method used to determine whether there is a significant association between two categorical variables or whether the observed data fits an expected distribution."
   ]
  },
  {
   "cell_type": "raw",
   "id": "a96fd166-4a8c-4f82-a536-6e30b408db6c",
   "metadata": {},
   "source": [
    "Types of Chi-Square Tests:\n",
    "1 Chi-Square Test for Independence: Tests if two categorical variables are independent.\n",
    "2 Chi-Square Goodness of Fit Test: Tests if the observed distribution matches an expected distribution."
   ]
  },
  {
   "cell_type": "markdown",
   "id": "4e88a2ef-c280-4a16-80ec-2281bc9cd755",
   "metadata": {},
   "source": [
    "### Chi-Square Test for Independence (Example 1)"
   ]
  },
  {
   "cell_type": "raw",
   "id": "bf8fb76e-70c0-4948-9af6-1b771f1dcdb6",
   "metadata": {},
   "source": [
    "A researcher wants to know if there is a relationship between gender (male, female) and preference for a product (like, dislike). A survey of 200 people results in the following contingency table:"
   ]
  },
  {
   "cell_type": "raw",
   "id": "cbecae15-d5b4-4ea8-ac2a-9217fbbf5bda",
   "metadata": {},
   "source": [
    "The null hypothesis (H0) states that gender and product preference are independent. \n",
    "The alternative hypothesis (H1) states that there is a relationship between gender and preference."
   ]
  },
  {
   "cell_type": "code",
   "execution_count": 18,
   "id": "edef3666-6ef4-4466-80e9-d3a1e7957d29",
   "metadata": {},
   "outputs": [
    {
     "name": "stdout",
     "output_type": "stream",
     "text": [
      "Chi-squere statistics : 0.195\n",
      "P_value : 0.659\n",
      "Degree of freedom :  1\n",
      "Expected frequency :  [[48. 32.]\n",
      " [72. 48.]]\n",
      "Fail to reject the null hypothesis: Gender and product preference are independent.\n"
     ]
    }
   ],
   "source": [
    "import pandas as pd\n",
    "import numpy as np\n",
    "from scipy.stats import chi2_contingency\n",
    "\n",
    "# Create a contingency table\n",
    "data=np.array([[50,30],[70,50]])\n",
    "data\n",
    "# Perform the Chi-Square Test\n",
    "chi2, p_value, dof, expected = chi2_contingency(data)\n",
    "\n",
    "print(f\"Chi-squere statistics : {chi2:.3f}\")\n",
    "print(f\"P_value : {p_value:.3f}\")\n",
    "print(\"Degree of freedom : \",dof)\n",
    "print(\"Expected frequency : \",expected)\n",
    "\n",
    "\n",
    "# Interpretation\n",
    "alpha = 0.05\n",
    "if p_value < alpha:\n",
    "    print(\"Reject the null hypothesis: Gender and product preference are dependent.\")\n",
    "else:\n",
    "    print(\"Fail to reject the null hypothesis: Gender and product preference are independent.\")"
   ]
  },
  {
   "cell_type": "markdown",
   "id": "997b124a-120a-4731-8870-80ffbe58ad00",
   "metadata": {},
   "source": [
    "### Chi-Square Goodness of Fit Test (Example 2)"
   ]
  },
  {
   "cell_type": "raw",
   "id": "85d8104e-99e9-425a-8866-1b203c7029cf",
   "metadata": {},
   "source": [
    "A dice manufacturer claims their dice are fair, meaning each number (1–6) has an equal probability of appearing. A dice is rolled 120 times,The null hypothesis (H0) states that the dice is fair. The alternative hypothesis (H1) states that the dice is not fair."
   ]
  },
  {
   "cell_type": "code",
   "execution_count": 21,
   "id": "08a386e6-1c3d-4f2f-91dd-c248be1c802a",
   "metadata": {},
   "outputs": [
    {
     "name": "stdout",
     "output_type": "stream",
     "text": [
      "Chi-Square Statistic: 2.9000000000000004\n",
      "P-value: 0.7153995143435801\n",
      "Fail to reject the null hypothesis: The dice is fair.\n"
     ]
    }
   ],
   "source": [
    "from scipy.stats import chisquare\n",
    "\n",
    "# Observed frequencies\n",
    "observed = [20, 15, 25, 20, 18, 22]\n",
    "# Expected frequencies (equal probabilities for a fair dice)\n",
    "expected = [120/6] * 6\n",
    "\n",
    "# Perform the Goodness of Fit Test\n",
    "chi2, p = chisquare(f_obs=observed, f_exp=expected)\n",
    "\n",
    "# Print results\n",
    "print(\"Chi-Square Statistic:\", chi2)\n",
    "print(\"P-value:\", p)\n",
    "\n",
    "# Interpretation\n",
    "alpha = 0.05\n",
    "if p < alpha:\n",
    "    print(\"Reject the null hypothesis: The dice is not fair.\")\n",
    "else:\n",
    "    print(\"Fail to reject the null hypothesis: The dice is fair.\")\n"
   ]
  },
  {
   "cell_type": "markdown",
   "id": "711f6ea3-43b7-4dd3-b7e6-4835dac391c4",
   "metadata": {},
   "source": [
    "### Chi-Square Test for Independence (example 3)"
   ]
  },
  {
   "cell_type": "raw",
   "id": "d9b9a210-2ff0-47f3-b2db-746356ae5ac5",
   "metadata": {},
   "source": [
    "A healthcare study investigates whether smoking status (smoker, non-smoker) is related to disease outcome (disease, no disease). Data is collected from 400 individuals:"
   ]
  },
  {
   "cell_type": "code",
   "execution_count": 26,
   "id": "3d91a18c-38bb-487e-ad4a-a9a9b5bacbbf",
   "metadata": {},
   "outputs": [
    {
     "name": "stdout",
     "output_type": "stream",
     "text": [
      "Chi-Square Statistic: 8.970666666666666\n",
      "P-value: 0.002743484745753856\n",
      "Degrees of Freedom: 1\n",
      "Expected Frequencies:\n",
      " [[ 75. 125.]\n",
      " [ 75. 125.]]\n",
      "Reject the null hypothesis: Smoking status and disease outcome are dependent.\n"
     ]
    }
   ],
   "source": [
    "# Contingency table for smoker status and disease outcome\n",
    "data = np.array([[90, 110], [60, 140]])\n",
    "# n.b   [90,110]=spoker and [60,140]=non_smoker\n",
    "# Perform Chi-Square Test\n",
    "chi2, p, dof, expected = chi2_contingency(data)\n",
    "\n",
    "# Display results\n",
    "print(\"Chi-Square Statistic:\", chi2)\n",
    "print(\"P-value:\", p)\n",
    "print(\"Degrees of Freedom:\", dof)\n",
    "print(\"Expected Frequencies:\\n\", expected)\n",
    "\n",
    "# Interpretation\n",
    "alpha = 0.05\n",
    "if p < alpha:\n",
    "    print(\"Reject the null hypothesis: Smoking status and disease outcome are dependent.\")\n",
    "else:\n",
    "    print(\"Fail to reject the null hypothesis: Smoking status and disease outcome are independent.\")\n"
   ]
  },
  {
   "cell_type": "code",
   "execution_count": null,
   "id": "f4d83e85-0e7d-4372-9776-1e0c7b8ae47d",
   "metadata": {},
   "outputs": [],
   "source": []
  },
  {
   "cell_type": "raw",
   "id": "de4bbc58-2dae-46f6-bc6f-a4a24c78f563",
   "metadata": {},
   "source": [
    "Chi-Square Test in Machine Learning:\n",
    "The Chi-Square test is commonly used in machine learning to check for independence between categorical variables. It's particularly useful in feature selection to determine whether a feature is significantly associated with the target variable.\n",
    "\n"
   ]
  },
  {
   "cell_type": "raw",
   "id": "c38dbc2b-5cda-449d-9a79-145892033447",
   "metadata": {},
   "source": [
    "Scenario: Feature Selection Using Chi-Square Test\n",
    "Problem: In a dataset, we have categorical features and a binary target variable (0 or 1). We want to determine if there is a significant relationship between each feature and the target variable, helping us decide whether to include the feature in a machine learning model."
   ]
  },
  {
   "cell_type": "raw",
   "id": "606d2091-7ac4-4f90-bcc0-cc14e8292919",
   "metadata": {},
   "source": [
    "Example: Titanic Dataset\n",
    "The Titanic dataset includes information about passengers (e.g., sex, age, class) and whether they survived (target: Survived). We'll use the Chi-Square test to determine if the Pclass (passenger class) and Sex features are related to survival."
   ]
  },
  {
   "cell_type": "code",
   "execution_count": 29,
   "id": "df280a67-fe2e-4bb9-be26-39bff681c9f3",
   "metadata": {},
   "outputs": [
    {
     "name": "stdout",
     "output_type": "stream",
     "text": [
      "Chi-Square Test Results:\n",
      "       Feature  Chi-Square Score   P-Value\n",
      "0       Pclass          0.181818  0.669815\n",
      "1  Sex_Encoded          1.800000  0.179712\n",
      "\n",
      "Chi-Square Test for 'Sex':\n",
      "Chi-Square Statistic: 1.600\n",
      "P-Value: 0.206\n",
      "Degrees of Freedom: 1\n",
      "Expected Frequencies:\n",
      "[[2.5 2.5]\n",
      " [2.5 2.5]]\n",
      "Fail to reject the null hypothesis: 'Sex' is not significantly associated with survival.\n"
     ]
    }
   ],
   "source": [
    "import pandas as pd\n",
    "from sklearn.feature_selection import chi2\n",
    "from sklearn.preprocessing import LabelEncoder\n",
    "from scipy.stats import chi2_contingency\n",
    "\n",
    "# Load the Titanic dataset\n",
    "data = {\n",
    "    'Pclass': [1, 2, 3, 1, 3, 2, 3, 1, 3, 3],\n",
    "    'Sex': ['male', 'female', 'female', 'female', 'male', 'male', 'female', 'male', 'female', 'male'],\n",
    "    'Survived': [1, 1, 0, 1, 0, 0, 1, 0, 1, 0],\n",
    "}\n",
    "df = pd.DataFrame(data)\n",
    "\n",
    "# Encode categorical variables\n",
    "encoder = LabelEncoder()\n",
    "df['Sex_Encoded'] = encoder.fit_transform(df['Sex'])\n",
    "\n",
    "# Separate features and target\n",
    "X = df[['Pclass', 'Sex_Encoded']]\n",
    "y = df['Survived']\n",
    "\n",
    "# Chi-Square Test using sklearn\n",
    "chi_scores, p_values = chi2(X, y)\n",
    "chi_results = pd.DataFrame({'Feature': X.columns, 'Chi-Square Score': chi_scores, 'P-Value': p_values})\n",
    "print(\"Chi-Square Test Results:\")\n",
    "print(chi_results)\n",
    "\n",
    "# Perform Chi-Square Test manually for Sex\n",
    "contingency_table = pd.crosstab(df['Sex'], df['Survived'])\n",
    "chi2_stat, p, dof, expected = chi2_contingency(contingency_table)\n",
    "\n",
    "print(\"\\nChi-Square Test for 'Sex':\")\n",
    "print(f\"Chi-Square Statistic: {chi2_stat:.3f}\")\n",
    "print(f\"P-Value: {p:.3f}\")\n",
    "print(f\"Degrees of Freedom: {dof}\")\n",
    "print(\"Expected Frequencies:\")\n",
    "print(expected)\n",
    "\n",
    "# Interpretation\n",
    "alpha = 0.05\n",
    "if p < alpha:\n",
    "    print(\"Reject the null hypothesis: 'Sex' is significantly associated with survival.\")\n",
    "else:\n",
    "    print(\"Fail to reject the null hypothesis: 'Sex' is not significantly associated with survival.\")\n"
   ]
  },
  {
   "cell_type": "code",
   "execution_count": null,
   "id": "624704df-2734-4d0d-881f-0d514cab7193",
   "metadata": {},
   "outputs": [],
   "source": []
  }
 ],
 "metadata": {
  "kernelspec": {
   "display_name": "Python 3 (ipykernel)",
   "language": "python",
   "name": "python3"
  },
  "language_info": {
   "codemirror_mode": {
    "name": "ipython",
    "version": 3
   },
   "file_extension": ".py",
   "mimetype": "text/x-python",
   "name": "python",
   "nbconvert_exporter": "python",
   "pygments_lexer": "ipython3",
   "version": "3.12.4"
  }
 },
 "nbformat": 4,
 "nbformat_minor": 5
}
