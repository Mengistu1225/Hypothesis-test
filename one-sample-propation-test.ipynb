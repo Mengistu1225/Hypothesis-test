{
 "cells": [
  {
   "cell_type": "raw",
   "id": "ab7f6701-8b7c-4d26-a6c4-928b30c3e2cc",
   "metadata": {},
   "source": [
    "A one-sample proportion test is a statistical test used to determine whether the proportion of successes in a sample is significantly different from a hypothesized population proportion. It’s often used when dealing with categorical data, especially in cases like:\n",
    "\n",
    "1 Testing whether the proportion of voters favoring a candidate differs from a hypothesized value.\n",
    "2 Testing if the proportion of defective items in a sample matches a company’s quality control standard.\n"
   ]
  },
  {
   "cell_type": "raw",
   "id": "4483937e-5e16-4428-89d7-c058acbf2e83",
   "metadata": {},
   "source": [
    "Hypothesis :\n",
    "H0 = p=>p0(sample propation p is equal to hypothesised propation p0)\n",
    "h1 = p!=p0(he sample proportion p is not equal to the hypothesized proportion p0)"
   ]
  },
  {
   "cell_type": "markdown",
   "id": "85b4a60a-894d-4b06-afe5-2030d9765cee",
   "metadata": {},
   "source": [
    "### example 1"
   ]
  },
  {
   "cell_type": "raw",
   "id": "dd457791-4554-422b-925d-c26e4a604f53",
   "metadata": {},
   "source": [
    "Let's test if the proportion of people who prefer coffee (^p) in a sample is different from the hypothesized population proportion (p0=0.5)."
   ]
  },
  {
   "cell_type": "code",
   "execution_count": 12,
   "id": "83b46c82-cdc3-41d0-ab2e-8a8049765528",
   "metadata": {},
   "outputs": [
    {
     "name": "stdout",
     "output_type": "stream",
     "text": [
      " Z-statistic : -1.005 \n",
      "P_value : 0.315\n",
      "Reject the null hypothesis: The sample proportion is significantly different from 0.5.\n"
     ]
    }
   ],
   "source": [
    "from statsmodels.stats.proportion import proportions_ztest\n",
    "\n",
    "# sample data\n",
    "success=45 # number people who  prefer coffee\n",
    "n=100 # total number sample\n",
    "p0=0.5 # hypothesized propation\n",
    "\n",
    "# perform one-propation test\n",
    "stat,p_value=proportions_ztest(count=success,nobs=n,value=p0)\n",
    "print(f\" Z-statistic : {stat:.3f} \")\n",
    "print(f\"P_value : {p_value:.3f}\")\n",
    "\n",
    "# conclusion\n",
    "if p_value < 0.5:\n",
    "    print(\"Reject the null hypothesis: The sample proportion is significantly different from 0.5.\")\n",
    "else:\n",
    "    print(\"Fail to reject the null hypothesis: The sample proportion is not significantly different from 0.5.\")"
   ]
  },
  {
   "cell_type": "markdown",
   "id": "52e60b40-7a97-4c03-871a-912eca3eb64f",
   "metadata": {},
   "source": [
    "### example 2"
   ]
  },
  {
   "cell_type": "raw",
   "id": "7ddfaa14-fce1-4351-869e-28a9873ee242",
   "metadata": {},
   "source": [
    "Suppose a factory claims that the defect rate of its products is \n",
    "𝑝0=0.05(5%). You want to test whether the actual defect rate is higher than the claimed rate based on a sample."
   ]
  },
  {
   "cell_type": "code",
   "execution_count": 16,
   "id": "f00529fd-d463-4f7a-b9ab-5bb24d2ced56",
   "metadata": {},
   "outputs": [
    {
     "name": "stdout",
     "output_type": "stream",
     "text": [
      "Z-statistic : 1.342\n",
      "p_value ::0.090\n",
      "Fail to reject the null hypothesis: The defect rate is not significantly higher than 5%.\n"
     ]
    }
   ],
   "source": [
    "from statsmodels.stats.proportion import proportions_ztest\n",
    "\n",
    "success=15 # number of defective item\n",
    "n=200 # total number of sample sample\n",
    "p0=0.05 # Claimed defect rate\n",
    "\n",
    "# Perform one-tailed proportion test (alternative='larger')\n",
    "stats,p_value=proportions_ztest(count=success,nobs=n,value=p0,alternative=\"larger\")\n",
    "print(f\"Z-statistic : {stats:.3f}\")\n",
    "print(f\"p_value ::{p_value:.3f}\")\n",
    "\n",
    "\n",
    "# Conclusion\n",
    "if p_value < 0.05:\n",
    "    print(\"Reject the null hypothesis: The defect rate is significantly higher than 5%.\")\n",
    "else:\n",
    "    print(\"Fail to reject the null hypothesis: The defect rate is not significantly higher than 5%.\")\n",
    "    "
   ]
  },
  {
   "cell_type": "markdown",
   "id": "e2c3b28d-df5b-444d-85ce-7811d4376baf",
   "metadata": {},
   "source": [
    "### example 3"
   ]
  },
  {
   "cell_type": "raw",
   "id": "9fd0b1e0-b220-47b4-96d9-9e8d627eb123",
   "metadata": {},
   "source": [
    "A school claims that 70% of its students pass a national exam. A researcher believes this claim might be incorrect and collects data from a random sample of 500 students, finding that 330 students passed the exam.\n",
    "The goal is to test if the passing rate in the sample is significantly different from 70% (p0=0.7) using a two-tailed test at a 5% significance level"
   ]
  },
  {
   "cell_type": "code",
   "execution_count": 19,
   "id": "9b251eba-8438-4d93-82c8-5b7b1501a7a7",
   "metadata": {},
   "outputs": [
    {
     "name": "stdout",
     "output_type": "stream",
     "text": [
      "Z-statistic: -1.888\n",
      "P-value: 0.059\n",
      "Fail to reject the null hypothesis: The passing rate is not significantly different from 70%.\n"
     ]
    }
   ],
   "source": [
    "from statsmodels.stats.proportion import proportions_ztest\n",
    "\n",
    "# Sample data\n",
    "successes = 330  # Number of students who passed\n",
    "n = 500          # Total number of students in the sample\n",
    "p0 = 0.7         # Hypothesized proportion (70%)\n",
    "\n",
    "# Perform two-tailed one-sample proportion test\n",
    "stat, p_value = proportions_ztest(count=successes, nobs=n, value=p0, alternative='two-sided')\n",
    "\n",
    "# Display results\n",
    "print(f\"Z-statistic: {stat:.3f}\")\n",
    "print(f\"P-value: {p_value:.3f}\")\n",
    "\n",
    "# Conclusion\n",
    "alpha = 0.05  # Significance level\n",
    "if p_value < alpha:\n",
    "    print(\"Reject the null hypothesis: The passing rate is significantly different from 70%.\")\n",
    "else:\n",
    "    print(\"Fail to reject the null hypothesis: The passing rate is not significantly different from 70%.\")\n"
   ]
  },
  {
   "cell_type": "code",
   "execution_count": null,
   "id": "9a7c3fc1-4299-4f03-9e95-f9ff44be3b21",
   "metadata": {},
   "outputs": [],
   "source": []
  }
 ],
 "metadata": {
  "kernelspec": {
   "display_name": "Python 3 (ipykernel)",
   "language": "python",
   "name": "python3"
  },
  "language_info": {
   "codemirror_mode": {
    "name": "ipython",
    "version": 3
   },
   "file_extension": ".py",
   "mimetype": "text/x-python",
   "name": "python",
   "nbconvert_exporter": "python",
   "pygments_lexer": "ipython3",
   "version": "3.12.4"
  }
 },
 "nbformat": 4,
 "nbformat_minor": 5
}
