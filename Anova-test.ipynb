{
 "cells": [
  {
   "cell_type": "markdown",
   "id": "35ca3f42-562d-4af3-9a0d-13f4cde47fbd",
   "metadata": {},
   "source": [
    "ANOVA (Analysis of Variance) is a statistical technique used to compare the means of three or more groups to determine if they are significantly different from each other. It is commonly used in statistical sampling and machine learning for feature selection or understanding the relationship between categorical independent variables and a continuous dependent variable."
   ]
  },
  {
   "cell_type": "raw",
   "id": "b70c5617-7f9d-42a0-8ec8-f209eca2bb38",
   "metadata": {},
   "source": [
    "When to Use ANOVA?\n",
    "1 You have one continuous dependent variable.\n",
    "2 You have one or more categorical independent variables with more than two groups.\n",
    "3 You want to test if the means of the dependent variable differ across the groups.\n"
   ]
  },
  {
   "cell_type": "markdown",
   "id": "f36be637-6259-4f57-9057-e754792a9f36",
   "metadata": {},
   "source": [
    "### example 1"
   ]
  },
  {
   "cell_type": "markdown",
   "id": "87790490-6ff8-44d6-af5d-92fe668af1d1",
   "metadata": {},
   "source": [
    "A researcher wants to test whether the average exam scores of students differ based on the type of teaching method: Traditional, Online, or Hybrid."
   ]
  },
  {
   "cell_type": "code",
   "execution_count": 6,
   "id": "e082b035-9d54-429c-b6d1-719e27c3b62a",
   "metadata": {},
   "outputs": [
    {
     "data": {
      "text/html": [
       "<div>\n",
       "<style scoped>\n",
       "    .dataframe tbody tr th:only-of-type {\n",
       "        vertical-align: middle;\n",
       "    }\n",
       "\n",
       "    .dataframe tbody tr th {\n",
       "        vertical-align: top;\n",
       "    }\n",
       "\n",
       "    .dataframe thead th {\n",
       "        text-align: right;\n",
       "    }\n",
       "</style>\n",
       "<table border=\"1\" class=\"dataframe\">\n",
       "  <thead>\n",
       "    <tr style=\"text-align: right;\">\n",
       "      <th></th>\n",
       "      <th>Teaching_Method</th>\n",
       "      <th>Exam_Score</th>\n",
       "    </tr>\n",
       "  </thead>\n",
       "  <tbody>\n",
       "    <tr>\n",
       "      <th>0</th>\n",
       "      <td>Traditional</td>\n",
       "      <td>75</td>\n",
       "    </tr>\n",
       "    <tr>\n",
       "      <th>1</th>\n",
       "      <td>Traditional</td>\n",
       "      <td>78</td>\n",
       "    </tr>\n",
       "    <tr>\n",
       "      <th>2</th>\n",
       "      <td>Traditional</td>\n",
       "      <td>72</td>\n",
       "    </tr>\n",
       "    <tr>\n",
       "      <th>3</th>\n",
       "      <td>Online</td>\n",
       "      <td>88</td>\n",
       "    </tr>\n",
       "    <tr>\n",
       "      <th>4</th>\n",
       "      <td>Online</td>\n",
       "      <td>84</td>\n",
       "    </tr>\n",
       "    <tr>\n",
       "      <th>5</th>\n",
       "      <td>Online</td>\n",
       "      <td>82</td>\n",
       "    </tr>\n",
       "    <tr>\n",
       "      <th>6</th>\n",
       "      <td>Hybrid</td>\n",
       "      <td>80</td>\n",
       "    </tr>\n",
       "    <tr>\n",
       "      <th>7</th>\n",
       "      <td>Hybrid</td>\n",
       "      <td>85</td>\n",
       "    </tr>\n",
       "    <tr>\n",
       "      <th>8</th>\n",
       "      <td>Hybrid</td>\n",
       "      <td>79</td>\n",
       "    </tr>\n",
       "  </tbody>\n",
       "</table>\n",
       "</div>"
      ],
      "text/plain": [
       "  Teaching_Method  Exam_Score\n",
       "0     Traditional          75\n",
       "1     Traditional          78\n",
       "2     Traditional          72\n",
       "3          Online          88\n",
       "4          Online          84\n",
       "5          Online          82\n",
       "6          Hybrid          80\n",
       "7          Hybrid          85\n",
       "8          Hybrid          79"
      ]
     },
     "execution_count": 6,
     "metadata": {},
     "output_type": "execute_result"
    }
   ],
   "source": [
    "import pandas as pd\n",
    "from scipy.stats import f_oneway\n",
    "data = {\n",
    "    'Teaching_Method': ['Traditional', 'Traditional', 'Traditional',\n",
    "                        'Online', 'Online', 'Online',\n",
    "                        'Hybrid', 'Hybrid', 'Hybrid'],\n",
    "    'Exam_Score': [75, 78, 72, 88, 84, 82, 80, 85, 79]\n",
    "}\n",
    "\n",
    "df = pd.DataFrame(data)\n",
    "df"
   ]
  },
  {
   "cell_type": "code",
   "execution_count": 10,
   "id": "c6c08f29-b83c-49ce-8810-911d81a25024",
   "metadata": {},
   "outputs": [
    {
     "name": "stdout",
     "output_type": "stream",
     "text": [
      "F_statistcs : 7.5697674418604635\n",
      " p_value :  0.022864803227046895\n",
      "Reject the null hypothesis: At least one group mean is different.\n"
     ]
    }
   ],
   "source": [
    "# Split data by groups\n",
    "traditional_score=df[df[\"Teaching_Method\"]==\"Traditional\"][\"Exam_Score\"]\n",
    "online_score=df[df[\"Teaching_Method\"]==\"Online\"][\"Exam_Score\"]\n",
    "hybrid_score=df[df[\"Teaching_Method\"]==\"Hybrid\"][\"Exam_Score\"]\n",
    "\n",
    "# Perform ANOVA test\n",
    "f_stat,p_value=f_oneway(traditional_score,online_score,hybrid_score)\n",
    "print(\"F_statistcs :\",f_stat)\n",
    "print(\" p_value : \",p_value)\n",
    "\n",
    "\n",
    "# conclusion\n",
    "if p_value<0.05:\n",
    "    print(\"Reject the null hypothesis: At least one group mean is different.\")\n",
    "else:\n",
    "    print(\"Fail to reject the null hypothesis: Group means are similar.\")\n",
    "    "
   ]
  },
  {
   "cell_type": "markdown",
   "id": "778fe202-60e5-4abb-b6bd-bf528b4be4a0",
   "metadata": {},
   "source": [
    "### example 2"
   ]
  },
  {
   "cell_type": "markdown",
   "id": "fd4d45cc-5f47-4a5e-aeac-9503f4eceb06",
   "metadata": {},
   "source": [
    "In machine learning, ANOVA is often used for feature selection. For example, in a dataset with multiple categorical features, ANOVA can help determine which features have a significant impact on a continuous target variable."
   ]
  },
  {
   "cell_type": "markdown",
   "id": "396e3766-f2c1-402e-94c9-161596089b67",
   "metadata": {},
   "source": [
    "Consider a dataset where we want to predict house prices based on categorical variables like \"House Style,\" \"Roof Type,\" and \"Exterior Material.\""
   ]
  },
  {
   "cell_type": "code",
   "execution_count": 52,
   "id": "d43e2a2b-a00f-473b-87a7-f6b03e17f7f7",
   "metadata": {},
   "outputs": [
    {
     "data": {
      "text/html": [
       "<div>\n",
       "<style scoped>\n",
       "    .dataframe tbody tr th:only-of-type {\n",
       "        vertical-align: middle;\n",
       "    }\n",
       "\n",
       "    .dataframe tbody tr th {\n",
       "        vertical-align: top;\n",
       "    }\n",
       "\n",
       "    .dataframe thead th {\n",
       "        text-align: right;\n",
       "    }\n",
       "</style>\n",
       "<table border=\"1\" class=\"dataframe\">\n",
       "  <thead>\n",
       "    <tr style=\"text-align: right;\">\n",
       "      <th></th>\n",
       "      <th>House_Style</th>\n",
       "      <th>Roof_Type</th>\n",
       "      <th>Price</th>\n",
       "    </tr>\n",
       "  </thead>\n",
       "  <tbody>\n",
       "    <tr>\n",
       "      <th>0</th>\n",
       "      <td>1Story</td>\n",
       "      <td>Gable</td>\n",
       "      <td>200000</td>\n",
       "    </tr>\n",
       "    <tr>\n",
       "      <th>1</th>\n",
       "      <td>2Story</td>\n",
       "      <td>Hip</td>\n",
       "      <td>250000</td>\n",
       "    </tr>\n",
       "    <tr>\n",
       "      <th>2</th>\n",
       "      <td>1Story</td>\n",
       "      <td>Gable</td>\n",
       "      <td>210000</td>\n",
       "    </tr>\n",
       "    <tr>\n",
       "      <th>3</th>\n",
       "      <td>2Story</td>\n",
       "      <td>Hip</td>\n",
       "      <td>260000</td>\n",
       "    </tr>\n",
       "    <tr>\n",
       "      <th>4</th>\n",
       "      <td>1.5Fin</td>\n",
       "      <td>Flat</td>\n",
       "      <td>180000</td>\n",
       "    </tr>\n",
       "    <tr>\n",
       "      <th>5</th>\n",
       "      <td>1.5Fin</td>\n",
       "      <td>Gable</td>\n",
       "      <td>190000</td>\n",
       "    </tr>\n",
       "    <tr>\n",
       "      <th>6</th>\n",
       "      <td>1Story</td>\n",
       "      <td>Hip</td>\n",
       "      <td>230000</td>\n",
       "    </tr>\n",
       "  </tbody>\n",
       "</table>\n",
       "</div>"
      ],
      "text/plain": [
       "  House_Style Roof_Type   Price\n",
       "0      1Story     Gable  200000\n",
       "1      2Story       Hip  250000\n",
       "2      1Story     Gable  210000\n",
       "3      2Story       Hip  260000\n",
       "4      1.5Fin      Flat  180000\n",
       "5      1.5Fin     Gable  190000\n",
       "6      1Story       Hip  230000"
      ]
     },
     "execution_count": 52,
     "metadata": {},
     "output_type": "execute_result"
    }
   ],
   "source": [
    "from sklearn.feature_selection import f_regression\n",
    "import pandas as pd\n",
    "import numpy as np\n",
    "\n",
    "# Example dataset\n",
    "data = {\n",
    "    'House_Style': ['1Story', '2Story', '1Story', '2Story', '1.5Fin', '1.5Fin', '1Story'],\n",
    "    'Roof_Type': ['Gable', 'Hip', 'Gable', 'Hip', 'Flat', 'Gable', 'Hip'],\n",
    "    'Price': [200000, 250000, 210000, 260000, 180000, 190000, 230000]\n",
    "}\n",
    "df=pd.DataFrame(data)\n",
    "df"
   ]
  },
  {
   "cell_type": "code",
   "execution_count": 54,
   "id": "65416a55-6b3b-4344-afd7-3fd8ea4fd866",
   "metadata": {},
   "outputs": [
    {
     "data": {
      "text/html": [
       "<div>\n",
       "<style scoped>\n",
       "    .dataframe tbody tr th:only-of-type {\n",
       "        vertical-align: middle;\n",
       "    }\n",
       "\n",
       "    .dataframe tbody tr th {\n",
       "        vertical-align: top;\n",
       "    }\n",
       "\n",
       "    .dataframe thead th {\n",
       "        text-align: right;\n",
       "    }\n",
       "</style>\n",
       "<table border=\"1\" class=\"dataframe\">\n",
       "  <thead>\n",
       "    <tr style=\"text-align: right;\">\n",
       "      <th></th>\n",
       "      <th>Price</th>\n",
       "      <th>House_Style_1Story</th>\n",
       "      <th>House_Style_2Story</th>\n",
       "      <th>Roof_Type_Gable</th>\n",
       "      <th>Roof_Type_Hip</th>\n",
       "    </tr>\n",
       "  </thead>\n",
       "  <tbody>\n",
       "    <tr>\n",
       "      <th>0</th>\n",
       "      <td>200000</td>\n",
       "      <td>True</td>\n",
       "      <td>False</td>\n",
       "      <td>True</td>\n",
       "      <td>False</td>\n",
       "    </tr>\n",
       "    <tr>\n",
       "      <th>1</th>\n",
       "      <td>250000</td>\n",
       "      <td>False</td>\n",
       "      <td>True</td>\n",
       "      <td>False</td>\n",
       "      <td>True</td>\n",
       "    </tr>\n",
       "    <tr>\n",
       "      <th>2</th>\n",
       "      <td>210000</td>\n",
       "      <td>True</td>\n",
       "      <td>False</td>\n",
       "      <td>True</td>\n",
       "      <td>False</td>\n",
       "    </tr>\n",
       "    <tr>\n",
       "      <th>3</th>\n",
       "      <td>260000</td>\n",
       "      <td>False</td>\n",
       "      <td>True</td>\n",
       "      <td>False</td>\n",
       "      <td>True</td>\n",
       "    </tr>\n",
       "    <tr>\n",
       "      <th>4</th>\n",
       "      <td>180000</td>\n",
       "      <td>False</td>\n",
       "      <td>False</td>\n",
       "      <td>False</td>\n",
       "      <td>False</td>\n",
       "    </tr>\n",
       "    <tr>\n",
       "      <th>5</th>\n",
       "      <td>190000</td>\n",
       "      <td>False</td>\n",
       "      <td>False</td>\n",
       "      <td>True</td>\n",
       "      <td>False</td>\n",
       "    </tr>\n",
       "    <tr>\n",
       "      <th>6</th>\n",
       "      <td>230000</td>\n",
       "      <td>True</td>\n",
       "      <td>False</td>\n",
       "      <td>False</td>\n",
       "      <td>True</td>\n",
       "    </tr>\n",
       "  </tbody>\n",
       "</table>\n",
       "</div>"
      ],
      "text/plain": [
       "    Price  House_Style_1Story  House_Style_2Story  Roof_Type_Gable  \\\n",
       "0  200000                True               False             True   \n",
       "1  250000               False                True            False   \n",
       "2  210000                True               False             True   \n",
       "3  260000               False                True            False   \n",
       "4  180000               False               False            False   \n",
       "5  190000               False               False             True   \n",
       "6  230000                True               False            False   \n",
       "\n",
       "   Roof_Type_Hip  \n",
       "0          False  \n",
       "1           True  \n",
       "2          False  \n",
       "3           True  \n",
       "4          False  \n",
       "5          False  \n",
       "6           True  "
      ]
     },
     "execution_count": 54,
     "metadata": {},
     "output_type": "execute_result"
    }
   ],
   "source": [
    "# label encode\n",
    "encoded_df=pd.get_dummies(df,drop_first=True)\n",
    "encoded_df"
   ]
  },
  {
   "cell_type": "code",
   "execution_count": 56,
   "id": "a560910d-7a9d-43b7-b84e-dcdcced4f7ba",
   "metadata": {},
   "outputs": [],
   "source": [
    "# extract features and target variables\n",
    "X=encoded_df.drop(\"Price\",axis=1)\n",
    "y=encoded_df['Price']\n"
   ]
  },
  {
   "cell_type": "code",
   "execution_count": 66,
   "id": "759ddb68-fe75-40f2-ace4-3286760257c8",
   "metadata": {},
   "outputs": [
    {
     "name": "stdout",
     "output_type": "stream",
     "text": [
      "              Feature  F-Statistic   P-Value\n",
      "0  House_Style_1Story     0.069686  0.802329\n",
      "1  House_Style_2Story    13.113912  0.015199\n",
      "2     Roof_Type_Gable     1.928571  0.223598\n",
      "3       Roof_Type_Hip    23.669951  0.004612\n",
      "                      \n",
      "by iteration for loop \n",
      "Feature: House_Style_1Story, P-Value: 0.8023287915872906\n",
      "Feature: House_Style_2Story, P-Value: 0.015198540225659942\n",
      "Feature: Roof_Type_Gable, P-Value: 0.22359775328347115\n",
      "Feature: Roof_Type_Hip, P-Value: 0.004612244656160908\n"
     ]
    }
   ],
   "source": [
    "# Perform ANOVA F-test\n",
    "f_stat, p_values = f_regression(X, y)\n",
    "\n",
    "# Output results\n",
    "results = pd.DataFrame({'Feature': X.columns, 'F-Statistic': f_stat, 'P-Value': p_values})\n",
    "print(results)\n",
    "\n",
    "\n",
    "# using for loop iteration\n",
    "print(\"                      \")\n",
    "print(\"by iteration for loop \")\n",
    "# Output results\n",
    "for feature, p_val in zip(X.columns, p_values):\n",
    "    print(f\"Feature: {feature}, P-Value: {p_val}\")\n",
    "\n"
   ]
  },
  {
   "cell_type": "code",
   "execution_count": 68,
   "id": "decf5979-2909-4df3-a671-9e14fbcd5867",
   "metadata": {},
   "outputs": [],
   "source": [
    "# so that roof_tyoe_hip and house_style _2story is less than significant number(0.05) "
   ]
  },
  {
   "cell_type": "markdown",
   "id": "93181efd-3990-4375-bca8-07770effb5eb",
   "metadata": {},
   "source": [
    "### example 3"
   ]
  },
  {
   "cell_type": "code",
   "execution_count": 89,
   "id": "c1e84552-c2c7-4d52-8a48-7dfac0604749",
   "metadata": {},
   "outputs": [
    {
     "name": "stdout",
     "output_type": "stream",
     "text": [
      "           Feature  Mutual Information\n",
      "0              Age            0.000000\n",
      "1           Income            0.030357\n",
      "2  Education_Level            0.000000\n"
     ]
    }
   ],
   "source": [
    "from sklearn.feature_selection import mutual_info_classif\n",
    "import pandas as pd\n",
    "\n",
    "# Example dataset\n",
    "data = {\n",
    "    'Age': [25, 30, 35, 40, 45, 50, 55, 60],\n",
    "    'Income': [40000, 50000, 60000, 70000, 80000, 90000, 100000, 110000],\n",
    "    'Education_Level': ['Bachelor', 'Master', 'PhD', 'High School', 'Master', 'PhD', 'Bachelor', 'High School'],\n",
    "    'Defaulted': [0, 0, 0, 1, 1, 1, 0, 0]\n",
    "}\n",
    "df = pd.DataFrame(data)\n",
    "\n",
    "# Encode categorical feature\n",
    "df['Education_Level'] = df['Education_Level'].map({\n",
    "    'High School': 0, 'Bachelor': 1, 'Master': 2, 'PhD': 3\n",
    "})\n",
    "\n",
    "# Features and target\n",
    "X = df[['Age', 'Income', 'Education_Level']]\n",
    "y = df['Defaulted']\n",
    "\n",
    "# Perform Mutual Information Feature Selection\n",
    "mutual_info = mutual_info_classif(X, y)\n",
    "\n",
    "# Display results\n",
    "feature_scores = pd.DataFrame({'Feature': X.columns, 'Mutual Information': mutual_info})\n",
    "print(feature_scores)\n"
   ]
  },
  {
   "cell_type": "markdown",
   "id": "a8213900-37eb-45db-b5b5-eed0fa1d402c",
   "metadata": {},
   "source": [
    "### example 4"
   ]
  },
  {
   "cell_type": "code",
   "execution_count": 91,
   "id": "819732fb-3be6-4759-86b5-d453caff4c52",
   "metadata": {},
   "outputs": [
    {
     "name": "stdout",
     "output_type": "stream",
     "text": [
      "      Feature  Mutual Information\n",
      "0   Feature_1            0.194123\n",
      "1   Feature_2            0.129449\n",
      "8   Feature_9            0.115916\n",
      "3   Feature_4            0.104875\n",
      "2   Feature_3            0.097245\n",
      "5   Feature_6            0.087287\n",
      "9  Feature_10            0.017613\n",
      "4   Feature_5            0.016971\n",
      "6   Feature_7            0.000000\n",
      "7   Feature_8            0.000000\n"
     ]
    }
   ],
   "source": [
    "# Generate a larger synthetic dataset\n",
    "from sklearn.datasets import make_classification\n",
    "\n",
    "# Create dataset\n",
    "X, y = make_classification(\n",
    "    n_samples=500, n_features=10, n_informative=5, \n",
    "    n_redundant=2, n_classes=2, random_state=42\n",
    ")\n",
    "\n",
    "# Convert to DataFrame\n",
    "columns = [f'Feature_{i}' for i in range(1, 11)]\n",
    "df = pd.DataFrame(X, columns=columns)\n",
    "df['Target'] = y\n",
    "\n",
    "# Perform Mutual Information Feature Selection\n",
    "mutual_info = mutual_info_classif(df.iloc[:, :-1], df['Target'])\n",
    "\n",
    "# Display results\n",
    "feature_scores = pd.DataFrame({\n",
    "    'Feature': columns,\n",
    "    'Mutual Information': mutual_info\n",
    "}).sort_values(by='Mutual Information', ascending=False)\n",
    "\n",
    "print(feature_scores)\n"
   ]
  },
  {
   "cell_type": "code",
   "execution_count": null,
   "id": "3b1fa593-9c02-4e8f-ab48-ed7d93fbcf46",
   "metadata": {},
   "outputs": [],
   "source": []
  }
 ],
 "metadata": {
  "kernelspec": {
   "display_name": "Python 3 (ipykernel)",
   "language": "python",
   "name": "python3"
  },
  "language_info": {
   "codemirror_mode": {
    "name": "ipython",
    "version": 3
   },
   "file_extension": ".py",
   "mimetype": "text/x-python",
   "name": "python",
   "nbconvert_exporter": "python",
   "pygments_lexer": "ipython3",
   "version": "3.12.4"
  }
 },
 "nbformat": 4,
 "nbformat_minor": 5
}
