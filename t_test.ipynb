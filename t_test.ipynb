{
 "cells": [
  {
   "cell_type": "raw",
   "id": "2159fba5-c1ec-408b-b978-b169387647ba",
   "metadata": {},
   "source": [
    "The t-test is a statistical hypothesis test used to determine if there is a significant difference between the means of one or two groups. It is particularly useful for small sample sizes and assumes that the data follows a normal distribution. In machine learning, t-tests are often used for feature selection and validating model assumptions."
   ]
  },
  {
   "cell_type": "raw",
   "id": "adaea1b4-b401-4264-a994-e69b045a7a6a",
   "metadata": {},
   "source": [
    "Key Assumptions of T-Test\n",
    "1 The data is normally distributed.\n",
    "2 The data is continuous.\n",
    "3 The sample data is independent.\n",
    "4 For two-sample t-tests, the variances of the two groups should be equal (for the standard t-test) or use Welch’s t-test if not."
   ]
  },
  {
   "cell_type": "markdown",
   "id": "47645125-a354-4409-a6ed-a1d866ec3bac",
   "metadata": {},
   "source": [
    "### 1. One-Sample T-Test"
   ]
  },
  {
   "cell_type": "raw",
   "id": "3e0fb7fb-4696-4478-b03e-bbef54fdf71c",
   "metadata": {},
   "source": [
    "A company claims that the average monthly salary of its employees is $5,000. A random sample of 10 employees gives the following salaries (in $):\n",
    "\n",
    "[4800, 5000, 5200, 4900, 4700, 5100, 5300, 4850, 4950, 5150]\n",
    "\n",
    "We want to test if the sample mean is significantly different from $5,000."
   ]
  },
  {
   "cell_type": "code",
   "execution_count": 8,
   "id": "5db7977f-9e7c-4ac7-8ae8-ee1d0203f66d",
   "metadata": {},
   "outputs": [
    {
     "name": "stdout",
     "output_type": "stream",
     "text": [
      "T-Statistic: -0.08291849892341732\n",
      "p_value : 0.9357312765960848\n",
      "Fail to reject the null hypothesis: The mean salary is not significantly different from $5,000.\n"
     ]
    }
   ],
   "source": [
    "import numpy as np\n",
    "from scipy.stats import ttest_1samp\n",
    "\n",
    "salaries = [4800, 5000, 5200, 4900, 4700, 5100, 5300, 4850, 4950, 5150]\n",
    "\n",
    "# population mean\n",
    "population_mean=5000\n",
    "# perform one sample t-test\n",
    "t_stat,p_value=ttest_1samp(salaries,population_mean)\n",
    "print(f\"T-Statistic: {t_stat}\")\n",
    "print(f\"p_value : {p_value}\")\n",
    "# conclusion\n",
    "if p_value < 0.05:\n",
    "    print(\"Reject the null hypothesis: The mean salary is significantly different from $5,000.\")\n",
    "else:\n",
    "    print(\"Fail to reject the null hypothesis: The mean salary is not significantly different from $5,000.\")"
   ]
  },
  {
   "cell_type": "markdown",
   "id": "5c4e5dcc-b6cf-4054-a952-07b07b6d8fc9",
   "metadata": {},
   "source": [
    "### 2.Two-Sample T-Test"
   ]
  },
  {
   "cell_type": "raw",
   "id": "cb2be68d-ff8e-465f-86c9-76124560efdc",
   "metadata": {},
   "source": [
    "A university wants to compare the test scores of students from two different classes to determine if there is a significant difference between their means.\n",
    "\n",
    "Class A scores: [85, 87, 88, 86, 90]\n",
    "Class B scores: [78, 82, 84, 79, 81]"
   ]
  },
  {
   "cell_type": "code",
   "execution_count": 17,
   "id": "cf1f8500-90e6-44bc-b060-e4288eb64641",
   "metadata": {},
   "outputs": [
    {
     "name": "stdout",
     "output_type": "stream",
     "text": [
      "T-Statistic : 4.667679727932629\n",
      "p_value : 0.0016073478059998065\n",
      "Reject the null hypothesis: The mean scores of the two classes are significantly different.\n"
     ]
    }
   ],
   "source": [
    "from scipy.stats import ttest_ind\n",
    "\n",
    "# Sample data\n",
    "class_a_scores = [85, 87, 88, 86, 90]\n",
    "class_b_scores = [78, 82, 84, 79, 81]\n",
    "\n",
    "# perform two sample t-test\n",
    "t_stat,p_value=ttest_ind(class_a_scores,class_b_scores)\n",
    "\n",
    "print(f\"T-Statistic : {t_stat}\")\n",
    "print(f\"p_value : {p_value}\")\n",
    "\n",
    "# conclusion\n",
    "if p_value < 0.05:\n",
    "    print(\"Reject the null hypothesis: The mean scores of the two classes are significantly different.\")\n",
    "else:\n",
    "    print(\"Fail to reject the null hypothesis: The mean scores of the two classes are not significantly different.\")"
   ]
  },
  {
   "cell_type": "markdown",
   "id": "f0aca564-b5bb-4166-912b-35c5d76746f7",
   "metadata": {},
   "source": [
    "### 3. Paired T-Test"
   ]
  },
  {
   "cell_type": "raw",
   "id": "873a8572-08dd-4019-9a51-221524fe44c9",
   "metadata": {},
   "source": [
    "A fitness trainer measures the weight of clients before and after a 6-week program to determine if the program has a significant impact.\n",
    "\n",
    "Weights Before (kg): [85, 90, 88, 92, 95]\n",
    "Weights After (kg): [83, 87, 85, 89, 92]"
   ]
  },
  {
   "cell_type": "code",
   "execution_count": 20,
   "id": "75221e19-dcb9-4498-a408-371162a6aae9",
   "metadata": {},
   "outputs": [
    {
     "name": "stdout",
     "output_type": "stream",
     "text": [
      "T-Statistic: 14.0\n",
      "P-Value: 0.00015101140222180054\n",
      "Reject the null hypothesis: The weight difference is statistically significant.\n"
     ]
    }
   ],
   "source": [
    "from scipy.stats import ttest_rel\n",
    "\n",
    "# Sample data\n",
    "weights_before = [85, 90, 88, 92, 95]\n",
    "weights_after = [83, 87, 85, 89, 92]\n",
    "\n",
    "# Perform Paired T-Test\n",
    "t_stat, p_value = ttest_rel(weights_before, weights_after)\n",
    "\n",
    "print(f\"T-Statistic: {t_stat}\")\n",
    "print(f\"P-Value: {p_value}\")\n",
    "\n",
    "if p_value < 0.05:\n",
    "    print(\"Reject the null hypothesis: The weight difference is statistically significant.\")\n",
    "else:\n",
    "    print(\"Fail to reject the null hypothesis: The weight difference is not statistically significant.\")\n"
   ]
  },
  {
   "cell_type": "markdown",
   "id": "9bad0af6-6086-4e1e-8535-c3f35c93c3d6",
   "metadata": {},
   "source": [
    "### Feature Selection in a Dataset"
   ]
  },
  {
   "cell_type": "code",
   "execution_count": 23,
   "id": "31bfc220-03d0-4c63-acd0-78b3afde4872",
   "metadata": {},
   "outputs": [
    {
     "name": "stdout",
     "output_type": "stream",
     "text": [
      "T-Statistic: -0.5\n",
      "P-Value: 0.6305360755569764\n",
      "Feature1 is not significantly associated with the target variable.\n"
     ]
    }
   ],
   "source": [
    "import pandas as pd\n",
    "from scipy.stats import ttest_ind\n",
    "\n",
    "# Sample dataset\n",
    "data = {\n",
    "    'Feature1': [1, 2, 3, 4, 5, 6, 7, 8, 9, 10],\n",
    "    'Feature2': [5, 6, 7, 8, 9, 10, 11, 12, 13, 14],\n",
    "    'Target': [0, 1, 0, 1, 0, 1, 0, 1, 0, 1]\n",
    "}\n",
    "\n",
    "df = pd.DataFrame(data)\n",
    "\n",
    "# Separate groups based on the target\n",
    "group_0 = df[df['Target'] == 0]['Feature1']\n",
    "group_1 = df[df['Target'] == 1]['Feature1']\n",
    "\n",
    "# Perform T-Test\n",
    "t_stat, p_value = ttest_ind(group_0, group_1)\n",
    "\n",
    "print(f\"T-Statistic: {t_stat}\")\n",
    "print(f\"P-Value: {p_value}\")\n",
    "\n",
    "if p_value < 0.05:\n",
    "    print(\"Feature1 is significantly associated with the target variable.\")\n",
    "else:\n",
    "    print(\"Feature1 is not significantly associated with the target variable.\")\n"
   ]
  },
  {
   "cell_type": "code",
   "execution_count": null,
   "id": "bcda80fd-4630-4f43-93b3-6057c62cca84",
   "metadata": {},
   "outputs": [],
   "source": []
  }
 ],
 "metadata": {
  "kernelspec": {
   "display_name": "Python 3 (ipykernel)",
   "language": "python",
   "name": "python3"
  },
  "language_info": {
   "codemirror_mode": {
    "name": "ipython",
    "version": 3
   },
   "file_extension": ".py",
   "mimetype": "text/x-python",
   "name": "python",
   "nbconvert_exporter": "python",
   "pygments_lexer": "ipython3",
   "version": "3.12.4"
  }
 },
 "nbformat": 4,
 "nbformat_minor": 5
}
